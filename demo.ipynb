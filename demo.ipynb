{
 "cells": [
  {
   "cell_type": "markdown",
   "id": "64b6c94f-3e79-46b7-b116-7027966777f8",
   "metadata": {},
   "source": [
    "# Mamba-2 Language Model demo"
   ]
  },
  {
   "cell_type": "code",
   "execution_count": 1,
   "id": "fa052505-d91c-4e87-8daa-2b00ad8cc881",
   "metadata": {},
   "outputs": [],
   "source": [
    "%load_ext autoreload\n",
    "%autoreload 2"
   ]
  },
  {
   "cell_type": "code",
   "execution_count": 2,
   "id": "a74ee1cb-b4b2-46a8-98a4-1dd845c1e5ab",
   "metadata": {},
   "outputs": [],
   "source": [
    "import torch\n",
    "from transformers import AutoTokenizer\n",
    "\n",
    "from mamba2 import Mamba2LMHeadModel\n",
    "\n",
    "if torch.cuda.is_available():\n",
    "    device = torch.device('cuda')\n",
    "elif torch.backends.mps.is_available():\n",
    "    device = torch.device('mps')\n",
    "else:\n",
    "    device = torch.device('cpu')\n",
    "\n",
    "_ = torch.manual_seed(42)"
   ]
  },
  {
   "cell_type": "markdown",
   "id": "a59ab109-2cbe-4f7a-b5ce-a58b8860f98c",
   "metadata": {},
   "source": [
    "Official pretrained models on [huggingface](https://huggingface.co/state-spaces):\n",
    "* `state-spaces/mamba2-130m`\n",
    "* `state-spaces/mamba2-370m`\n",
    "* `state-spaces/mamba2-780m`\n",
    "* `state-spaces/mamba2-1.3b`\n",
    "* `state-spaces/mamba2-2.7b`\n",
    "\n",
    "Note that these are base models without fine-tuning for downstream tasks such as chat or instruction following."
   ]
  },
  {
   "cell_type": "code",
   "execution_count": 3,
   "id": "b6569ffd-993f-4d5b-9094-902801fe6c14",
   "metadata": {},
   "outputs": [
    {
     "name": "stderr",
     "output_type": "stream",
     "text": [
      "Special tokens have been added in the vocabulary, make sure the associated word embeddings are fine-tuned or trained.\n"
     ]
    }
   ],
   "source": [
    "model = Mamba2LMHeadModel.from_pretrained(\"state-spaces/mamba2-130m\", device=device)\n",
    "tokenizer = AutoTokenizer.from_pretrained(\"EleutherAI/gpt-neox-20b\")"
   ]
  },
  {
   "cell_type": "code",
   "execution_count": 4,
   "id": "bb837263-8a1f-40bf-a9b1-fce72225a674",
   "metadata": {},
   "outputs": [],
   "source": [
    "MAX_NEW_LENGTH = 50\n",
    "TEMPERATURE = 1.5\n",
    "TOP_K = 50\n",
    "TOP_P = 1.0"
   ]
  },
  {
   "cell_type": "code",
   "execution_count": 5,
   "id": "87006a5d-7992-4026-9b40-36cbc3ebf8dc",
   "metadata": {},
   "outputs": [],
   "source": [
    "def generate_completion(prompt: str):\n",
    "    \"\"\"Streaming generate completion\"\"\"\n",
    "    input_ids = tokenizer(prompt, return_tensors='pt').input_ids.to(device)[0]\n",
    "    print(prompt, end=\"\")\n",
    "    for token_id in model.generate(input_ids, MAX_NEW_LENGTH, TEMPERATURE, TOP_K, TOP_P):\n",
    "        token = tokenizer.decode([token_id])\n",
    "        print(token, end=\"\", flush=True)\n",
    "    print()"
   ]
  },
  {
   "cell_type": "code",
   "execution_count": 6,
   "id": "4b926b16-2883-4eef-9459-3718498409e6",
   "metadata": {},
   "outputs": [
    {
     "name": "stdout",
     "output_type": "stream",
     "text": [
      "Mamba is a new state space model architecture designed by Roxe et al. and described herein as an integrated space-time framework to represent objects in two components : (a) an underlying set which maps all objects to a generic topology which has one of four “domain types” for representing\n"
     ]
    }
   ],
   "source": [
    "generate_completion(\"Mamba is a new state space model architecture\")"
   ]
  },
  {
   "cell_type": "code",
   "execution_count": 7,
   "id": "608ccece-9a11-47bc-bafd-7b47fc6383c7",
   "metadata": {},
   "outputs": [
    {
     "name": "stdout",
     "output_type": "stream",
     "text": [
      "The meaning of life is important but there are many different definitions to the importance of what matters best. Some of us have little respect for God and others love the Creator so how is love to be treated from God? We know we are not without an identity crisis. The world\n"
     ]
    }
   ],
   "source": [
    "generate_completion(\"The meaning of life is\")"
   ]
  }
 ],
 "metadata": {
  "kernelspec": {
   "display_name": "Python 3 (ipykernel)",
   "language": "python",
   "name": "python3"
  },
  "language_info": {
   "codemirror_mode": {
    "name": "ipython",
    "version": 3
   },
   "file_extension": ".py",
   "mimetype": "text/x-python",
   "name": "python",
   "nbconvert_exporter": "python",
   "pygments_lexer": "ipython3",
   "version": "3.12.2"
  }
 },
 "nbformat": 4,
 "nbformat_minor": 5
}
